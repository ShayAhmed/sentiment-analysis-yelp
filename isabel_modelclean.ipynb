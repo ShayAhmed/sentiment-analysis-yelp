{
 "cells": [
  {
   "cell_type": "code",
   "execution_count": 1,
   "metadata": {},
   "outputs": [],
   "source": [
    "import pandas as pd"
   ]
  },
  {
   "cell_type": "code",
   "execution_count": 2,
   "metadata": {},
   "outputs": [
    {
     "name": "stdout",
     "output_type": "stream",
     "text": [
      "\u001b[34mbusiness\u001b[m\u001b[m/                      restaurant_business_data.csv\r\n",
      "business_data.csv              restaurant_reviews.csv\r\n",
      "preprocessed_data.csv          reviews.csv\r\n",
      "preprocessed_novotes_data.csv  t.txt\r\n"
     ]
    }
   ],
   "source": [
    "ls data/"
   ]
  },
  {
   "cell_type": "code",
   "execution_count": 3,
   "metadata": {},
   "outputs": [],
   "source": [
    "data = pd.read_csv(\"data/preprocessed_novotes_data.csv\", low_memory=False)"
   ]
  },
  {
   "cell_type": "code",
   "execution_count": 4,
   "metadata": {
    "scrolled": true
   },
   "outputs": [
    {
     "data": {
      "text/html": [
       "<div>\n",
       "<style scoped>\n",
       "    .dataframe tbody tr th:only-of-type {\n",
       "        vertical-align: middle;\n",
       "    }\n",
       "\n",
       "    .dataframe tbody tr th {\n",
       "        vertical-align: top;\n",
       "    }\n",
       "\n",
       "    .dataframe thead th {\n",
       "        text-align: right;\n",
       "    }\n",
       "</style>\n",
       "<table border=\"1\" class=\"dataframe\">\n",
       "  <thead>\n",
       "    <tr style=\"text-align: right;\">\n",
       "      <th></th>\n",
       "      <th>business_id</th>\n",
       "      <th>stars</th>\n",
       "      <th>text</th>\n",
       "      <th>date</th>\n",
       "    </tr>\n",
       "  </thead>\n",
       "  <tbody>\n",
       "    <tr>\n",
       "      <th>0</th>\n",
       "      <td>HQl28KMwrEKHqhFrrDqVNQ</td>\n",
       "      <td>5.0</td>\n",
       "      <td>love deagans really atmosphere cozy festive sh...</td>\n",
       "      <td>2015-12-05 03:18:11</td>\n",
       "    </tr>\n",
       "    <tr>\n",
       "      <th>1</th>\n",
       "      <td>5JxlZaqCnk1MnbgRirs40Q</td>\n",
       "      <td>1.0</td>\n",
       "      <td>dismal lukewarm defrostedtasting texmex glop m...</td>\n",
       "      <td>2011-05-27 05:30:52</td>\n",
       "    </tr>\n",
       "    <tr>\n",
       "      <th>2</th>\n",
       "      <td>IS4cv902ykd8wj1TR0N3-A</td>\n",
       "      <td>4.0</td>\n",
       "      <td>oh happy day finally cane near casa yes others...</td>\n",
       "      <td>2017-01-14 21:56:57</td>\n",
       "    </tr>\n",
       "    <tr>\n",
       "      <th>3</th>\n",
       "      <td>nlxHRv1zXGT0c0K51q3jDg</td>\n",
       "      <td>5.0</td>\n",
       "      <td>definitely favorite fast food sub shop ingredi...</td>\n",
       "      <td>2013-05-07 07:25:25</td>\n",
       "    </tr>\n",
       "    <tr>\n",
       "      <th>4</th>\n",
       "      <td>Pthe4qk5xh4n-ef-9bvMSg</td>\n",
       "      <td>5.0</td>\n",
       "      <td>really good place simple decor amazing food gr...</td>\n",
       "      <td>2015-11-05 23:11:05</td>\n",
       "    </tr>\n",
       "  </tbody>\n",
       "</table>\n",
       "</div>"
      ],
      "text/plain": [
       "              business_id  stars  \\\n",
       "0  HQl28KMwrEKHqhFrrDqVNQ    5.0   \n",
       "1  5JxlZaqCnk1MnbgRirs40Q    1.0   \n",
       "2  IS4cv902ykd8wj1TR0N3-A    4.0   \n",
       "3  nlxHRv1zXGT0c0K51q3jDg    5.0   \n",
       "4  Pthe4qk5xh4n-ef-9bvMSg    5.0   \n",
       "\n",
       "                                                text                 date  \n",
       "0  love deagans really atmosphere cozy festive sh...  2015-12-05 03:18:11  \n",
       "1  dismal lukewarm defrostedtasting texmex glop m...  2011-05-27 05:30:52  \n",
       "2  oh happy day finally cane near casa yes others...  2017-01-14 21:56:57  \n",
       "3  definitely favorite fast food sub shop ingredi...  2013-05-07 07:25:25  \n",
       "4  really good place simple decor amazing food gr...  2015-11-05 23:11:05  "
      ]
     },
     "execution_count": 4,
     "metadata": {},
     "output_type": "execute_result"
    }
   ],
   "source": [
    "data.head()"
   ]
  },
  {
   "cell_type": "code",
   "execution_count": 16,
   "metadata": {},
   "outputs": [],
   "source": [
    "data = data.dropna(how='any',axis=0) "
   ]
  },
  {
   "cell_type": "code",
   "execution_count": 18,
   "metadata": {},
   "outputs": [
    {
     "name": "stderr",
     "output_type": "stream",
     "text": [
      "/Users/isabelli/opt/anaconda3/lib/python3.7/site-packages/ipykernel_launcher.py:1: SettingWithCopyWarning: \n",
      "A value is trying to be set on a copy of a slice from a DataFrame.\n",
      "Try using .loc[row_indexer,col_indexer] = value instead\n",
      "\n",
      "See the caveats in the documentation: https://pandas.pydata.org/pandas-docs/stable/user_guide/indexing.html#returning-a-view-versus-a-copy\n",
      "  \"\"\"Entry point for launching an IPython kernel.\n"
     ]
    },
    {
     "data": {
      "text/html": [
       "<div>\n",
       "<style scoped>\n",
       "    .dataframe tbody tr th:only-of-type {\n",
       "        vertical-align: middle;\n",
       "    }\n",
       "\n",
       "    .dataframe tbody tr th {\n",
       "        vertical-align: top;\n",
       "    }\n",
       "\n",
       "    .dataframe thead th {\n",
       "        text-align: right;\n",
       "    }\n",
       "</style>\n",
       "<table border=\"1\" class=\"dataframe\">\n",
       "  <thead>\n",
       "    <tr style=\"text-align: right;\">\n",
       "      <th></th>\n",
       "      <th>business_id</th>\n",
       "      <th>stars</th>\n",
       "      <th>text</th>\n",
       "      <th>date</th>\n",
       "      <th>length</th>\n",
       "    </tr>\n",
       "  </thead>\n",
       "  <tbody>\n",
       "    <tr>\n",
       "      <th>0</th>\n",
       "      <td>HQl28KMwrEKHqhFrrDqVNQ</td>\n",
       "      <td>5.0</td>\n",
       "      <td>love deagans really atmosphere cozy festive sh...</td>\n",
       "      <td>2015-12-05 03:18:11</td>\n",
       "      <td>245</td>\n",
       "    </tr>\n",
       "    <tr>\n",
       "      <th>1</th>\n",
       "      <td>5JxlZaqCnk1MnbgRirs40Q</td>\n",
       "      <td>1.0</td>\n",
       "      <td>dismal lukewarm defrostedtasting texmex glop m...</td>\n",
       "      <td>2011-05-27 05:30:52</td>\n",
       "      <td>280</td>\n",
       "    </tr>\n",
       "    <tr>\n",
       "      <th>2</th>\n",
       "      <td>IS4cv902ykd8wj1TR0N3-A</td>\n",
       "      <td>4.0</td>\n",
       "      <td>oh happy day finally cane near casa yes others...</td>\n",
       "      <td>2017-01-14 21:56:57</td>\n",
       "      <td>487</td>\n",
       "    </tr>\n",
       "    <tr>\n",
       "      <th>3</th>\n",
       "      <td>nlxHRv1zXGT0c0K51q3jDg</td>\n",
       "      <td>5.0</td>\n",
       "      <td>definitely favorite fast food sub shop ingredi...</td>\n",
       "      <td>2013-05-07 07:25:25</td>\n",
       "      <td>347</td>\n",
       "    </tr>\n",
       "    <tr>\n",
       "      <th>4</th>\n",
       "      <td>Pthe4qk5xh4n-ef-9bvMSg</td>\n",
       "      <td>5.0</td>\n",
       "      <td>really good place simple decor amazing food gr...</td>\n",
       "      <td>2015-11-05 23:11:05</td>\n",
       "      <td>245</td>\n",
       "    </tr>\n",
       "  </tbody>\n",
       "</table>\n",
       "</div>"
      ],
      "text/plain": [
       "              business_id  stars  \\\n",
       "0  HQl28KMwrEKHqhFrrDqVNQ    5.0   \n",
       "1  5JxlZaqCnk1MnbgRirs40Q    1.0   \n",
       "2  IS4cv902ykd8wj1TR0N3-A    4.0   \n",
       "3  nlxHRv1zXGT0c0K51q3jDg    5.0   \n",
       "4  Pthe4qk5xh4n-ef-9bvMSg    5.0   \n",
       "\n",
       "                                                text                 date  \\\n",
       "0  love deagans really atmosphere cozy festive sh...  2015-12-05 03:18:11   \n",
       "1  dismal lukewarm defrostedtasting texmex glop m...  2011-05-27 05:30:52   \n",
       "2  oh happy day finally cane near casa yes others...  2017-01-14 21:56:57   \n",
       "3  definitely favorite fast food sub shop ingredi...  2013-05-07 07:25:25   \n",
       "4  really good place simple decor amazing food gr...  2015-11-05 23:11:05   \n",
       "\n",
       "   length  \n",
       "0     245  \n",
       "1     280  \n",
       "2     487  \n",
       "3     347  \n",
       "4     245  "
      ]
     },
     "execution_count": 18,
     "metadata": {},
     "output_type": "execute_result"
    }
   ],
   "source": [
    "data['length'] = data['text'].apply(len)\n",
    "data.head()"
   ]
  },
  {
   "cell_type": "code",
   "execution_count": 19,
   "metadata": {},
   "outputs": [],
   "source": [
    "data_withlength = data"
   ]
  },
  {
   "cell_type": "code",
   "execution_count": 23,
   "metadata": {},
   "outputs": [
    {
     "data": {
      "text/html": [
       "<div>\n",
       "<style scoped>\n",
       "    .dataframe tbody tr th:only-of-type {\n",
       "        vertical-align: middle;\n",
       "    }\n",
       "\n",
       "    .dataframe tbody tr th {\n",
       "        vertical-align: top;\n",
       "    }\n",
       "\n",
       "    .dataframe thead th {\n",
       "        text-align: right;\n",
       "    }\n",
       "</style>\n",
       "<table border=\"1\" class=\"dataframe\">\n",
       "  <thead>\n",
       "    <tr style=\"text-align: right;\">\n",
       "      <th></th>\n",
       "      <th>business_id</th>\n",
       "      <th>stars</th>\n",
       "      <th>text</th>\n",
       "      <th>date</th>\n",
       "    </tr>\n",
       "  </thead>\n",
       "  <tbody>\n",
       "    <tr>\n",
       "      <th>0</th>\n",
       "      <td>HQl28KMwrEKHqhFrrDqVNQ</td>\n",
       "      <td>5.0</td>\n",
       "      <td>love deagans really atmosphere cozy festive sh...</td>\n",
       "      <td>2015-12-05 03:18:11</td>\n",
       "    </tr>\n",
       "    <tr>\n",
       "      <th>1</th>\n",
       "      <td>5JxlZaqCnk1MnbgRirs40Q</td>\n",
       "      <td>1.0</td>\n",
       "      <td>dismal lukewarm defrostedtasting texmex glop m...</td>\n",
       "      <td>2011-05-27 05:30:52</td>\n",
       "    </tr>\n",
       "    <tr>\n",
       "      <th>2</th>\n",
       "      <td>IS4cv902ykd8wj1TR0N3-A</td>\n",
       "      <td>4.0</td>\n",
       "      <td>oh happy day finally cane near casa yes others...</td>\n",
       "      <td>2017-01-14 21:56:57</td>\n",
       "    </tr>\n",
       "    <tr>\n",
       "      <th>3</th>\n",
       "      <td>nlxHRv1zXGT0c0K51q3jDg</td>\n",
       "      <td>5.0</td>\n",
       "      <td>definitely favorite fast food sub shop ingredi...</td>\n",
       "      <td>2013-05-07 07:25:25</td>\n",
       "    </tr>\n",
       "    <tr>\n",
       "      <th>4</th>\n",
       "      <td>Pthe4qk5xh4n-ef-9bvMSg</td>\n",
       "      <td>5.0</td>\n",
       "      <td>really good place simple decor amazing food gr...</td>\n",
       "      <td>2015-11-05 23:11:05</td>\n",
       "    </tr>\n",
       "    <tr>\n",
       "      <th>...</th>\n",
       "      <td>...</td>\n",
       "      <td>...</td>\n",
       "      <td>...</td>\n",
       "      <td>...</td>\n",
       "    </tr>\n",
       "    <tr>\n",
       "      <th>5055987</th>\n",
       "      <td>H8qpFitIesth86zqR4cwYg</td>\n",
       "      <td>5.0</td>\n",
       "      <td>confection cash casino welcome la vega finally...</td>\n",
       "      <td>2017-01-10 04:18:30</td>\n",
       "    </tr>\n",
       "    <tr>\n",
       "      <th>5055988</th>\n",
       "      <td>IsoLzudHC50oJLiEWpwV-w</td>\n",
       "      <td>3.0</td>\n",
       "      <td>solid american food southern comfort flare war...</td>\n",
       "      <td>2019-12-10 04:15:00</td>\n",
       "    </tr>\n",
       "    <tr>\n",
       "      <th>5055989</th>\n",
       "      <td>kDCyqlYcstqnoqnfBRS5Og</td>\n",
       "      <td>5.0</td>\n",
       "      <td>im honestly sure never place im definitely goi...</td>\n",
       "      <td>2019-06-06 15:01:53</td>\n",
       "    </tr>\n",
       "    <tr>\n",
       "      <th>5055990</th>\n",
       "      <td>VKVDDHKtsdrnigeIf9S8RA</td>\n",
       "      <td>3.0</td>\n",
       "      <td>food decent say service took way long wasnt or...</td>\n",
       "      <td>2018-07-05 18:45:21</td>\n",
       "    </tr>\n",
       "    <tr>\n",
       "      <th>5055991</th>\n",
       "      <td>2SbyRgHWuWNlq18eHAx95Q</td>\n",
       "      <td>5.0</td>\n",
       "      <td>oh yeah service good food good serving good se...</td>\n",
       "      <td>2019-12-07 00:29:55</td>\n",
       "    </tr>\n",
       "  </tbody>\n",
       "</table>\n",
       "<p>5055955 rows × 4 columns</p>\n",
       "</div>"
      ],
      "text/plain": [
       "                    business_id  stars  \\\n",
       "0        HQl28KMwrEKHqhFrrDqVNQ    5.0   \n",
       "1        5JxlZaqCnk1MnbgRirs40Q    1.0   \n",
       "2        IS4cv902ykd8wj1TR0N3-A    4.0   \n",
       "3        nlxHRv1zXGT0c0K51q3jDg    5.0   \n",
       "4        Pthe4qk5xh4n-ef-9bvMSg    5.0   \n",
       "...                         ...    ...   \n",
       "5055987  H8qpFitIesth86zqR4cwYg    5.0   \n",
       "5055988  IsoLzudHC50oJLiEWpwV-w    3.0   \n",
       "5055989  kDCyqlYcstqnoqnfBRS5Og    5.0   \n",
       "5055990  VKVDDHKtsdrnigeIf9S8RA    3.0   \n",
       "5055991  2SbyRgHWuWNlq18eHAx95Q    5.0   \n",
       "\n",
       "                                                      text  \\\n",
       "0        love deagans really atmosphere cozy festive sh...   \n",
       "1        dismal lukewarm defrostedtasting texmex glop m...   \n",
       "2        oh happy day finally cane near casa yes others...   \n",
       "3        definitely favorite fast food sub shop ingredi...   \n",
       "4        really good place simple decor amazing food gr...   \n",
       "...                                                    ...   \n",
       "5055987  confection cash casino welcome la vega finally...   \n",
       "5055988  solid american food southern comfort flare war...   \n",
       "5055989  im honestly sure never place im definitely goi...   \n",
       "5055990  food decent say service took way long wasnt or...   \n",
       "5055991  oh yeah service good food good serving good se...   \n",
       "\n",
       "                        date  \n",
       "0        2015-12-05 03:18:11  \n",
       "1        2011-05-27 05:30:52  \n",
       "2        2017-01-14 21:56:57  \n",
       "3        2013-05-07 07:25:25  \n",
       "4        2015-11-05 23:11:05  \n",
       "...                      ...  \n",
       "5055987  2017-01-10 04:18:30  \n",
       "5055988  2019-12-10 04:15:00  \n",
       "5055989  2019-06-06 15:01:53  \n",
       "5055990  2018-07-05 18:45:21  \n",
       "5055991  2019-12-07 00:29:55  \n",
       "\n",
       "[5055955 rows x 4 columns]"
      ]
     },
     "execution_count": 23,
     "metadata": {},
     "output_type": "execute_result"
    }
   ],
   "source": [
    "data.drop(['length'], axis=1)"
   ]
  },
  {
   "cell_type": "code",
   "execution_count": 5,
   "metadata": {},
   "outputs": [
    {
     "data": {
      "text/html": [
       "<div>\n",
       "<style scoped>\n",
       "    .dataframe tbody tr th:only-of-type {\n",
       "        vertical-align: middle;\n",
       "    }\n",
       "\n",
       "    .dataframe tbody tr th {\n",
       "        vertical-align: top;\n",
       "    }\n",
       "\n",
       "    .dataframe thead th {\n",
       "        text-align: right;\n",
       "    }\n",
       "</style>\n",
       "<table border=\"1\" class=\"dataframe\">\n",
       "  <thead>\n",
       "    <tr style=\"text-align: right;\">\n",
       "      <th></th>\n",
       "      <th>business_id</th>\n",
       "      <th>stars</th>\n",
       "      <th>text</th>\n",
       "      <th>date</th>\n",
       "    </tr>\n",
       "  </thead>\n",
       "  <tbody>\n",
       "    <tr>\n",
       "      <th>988416</th>\n",
       "      <td>_HW7sgUShin0aGouFMiUdA</td>\n",
       "      <td>5.0</td>\n",
       "      <td>went group friend burger beer night month ago ...</td>\n",
       "      <td>2011-02-13 22:00:30</td>\n",
       "    </tr>\n",
       "    <tr>\n",
       "      <th>4635308</th>\n",
       "      <td>PQER4ba8Q0zqB1G2QiXamQ</td>\n",
       "      <td>3.0</td>\n",
       "      <td>came black bear diner little day vacation girl...</td>\n",
       "      <td>2015-09-01 15:48:14</td>\n",
       "    </tr>\n",
       "    <tr>\n",
       "      <th>1418214</th>\n",
       "      <td>3U__XOTBFptjhBeHrPGqrg</td>\n",
       "      <td>4.0</td>\n",
       "      <td>yumthis place delicious stopped lunch yesterda...</td>\n",
       "      <td>2015-08-02 19:11:39</td>\n",
       "    </tr>\n",
       "    <tr>\n",
       "      <th>4908073</th>\n",
       "      <td>sPwgafejYVdf8hd4-oDYVg</td>\n",
       "      <td>1.0</td>\n",
       "      <td>sure super bowl sunday taking phone hook after...</td>\n",
       "      <td>2017-02-05 21:27:06</td>\n",
       "    </tr>\n",
       "    <tr>\n",
       "      <th>4984700</th>\n",
       "      <td>umXvdus9LbC6oxtLdXelFQ</td>\n",
       "      <td>5.0</td>\n",
       "      <td>seinaru kemuri thats say sweet raku picture sa...</td>\n",
       "      <td>2019-02-04 05:26:15</td>\n",
       "    </tr>\n",
       "  </tbody>\n",
       "</table>\n",
       "</div>"
      ],
      "text/plain": [
       "                    business_id  stars  \\\n",
       "988416   _HW7sgUShin0aGouFMiUdA    5.0   \n",
       "4635308  PQER4ba8Q0zqB1G2QiXamQ    3.0   \n",
       "1418214  3U__XOTBFptjhBeHrPGqrg    4.0   \n",
       "4908073  sPwgafejYVdf8hd4-oDYVg    1.0   \n",
       "4984700  umXvdus9LbC6oxtLdXelFQ    5.0   \n",
       "\n",
       "                                                      text  \\\n",
       "988416   went group friend burger beer night month ago ...   \n",
       "4635308  came black bear diner little day vacation girl...   \n",
       "1418214  yumthis place delicious stopped lunch yesterda...   \n",
       "4908073  sure super bowl sunday taking phone hook after...   \n",
       "4984700  seinaru kemuri thats say sweet raku picture sa...   \n",
       "\n",
       "                        date  \n",
       "988416   2011-02-13 22:00:30  \n",
       "4635308  2015-09-01 15:48:14  \n",
       "1418214  2015-08-02 19:11:39  \n",
       "4908073  2017-02-05 21:27:06  \n",
       "4984700  2019-02-04 05:26:15  "
      ]
     },
     "execution_count": 5,
     "metadata": {},
     "output_type": "execute_result"
    }
   ],
   "source": [
    "reviews = data.sample(n=100000,random_state=42)\n",
    "review_text = reviews['text']\n",
    "review_stars = reviews['stars']\n",
    "reviews.head()"
   ]
  },
  {
   "cell_type": "code",
   "execution_count": 10,
   "metadata": {},
   "outputs": [
    {
     "data": {
      "image/png": "[encoded data removed]",
      "text/plain": [
       "<Figure size 432x288 with 1 Axes>"
      ]
     },
     "metadata": {
      "needs_background": "light"
     },
     "output_type": "display_data"
    }
   ],
   "source": [
    "import matplotlib.pyplot as plt\n",
    "data['stars'].value_counts().plot(kind='bar')\n",
    "plt.xlabel(\"star rating\")\n",
    "plt.ylabel(\"count\")\n",
    "plt.title(\"Restaurant Reviews\")\n",
    "plt.show()"
   ]
  },
  {
   "cell_type": "code",
   "execution_count": 26,
   "metadata": {},
   "outputs": [
    {
     "data": {
      "image/png": "[encoded data removed]",
      "text/plain": [
       "<Figure size 432x288 with 1 Axes>"
      ]
     },
     "metadata": {
      "needs_background": "light"
     },
     "output_type": "display_data"
    }
   ],
   "source": [
    "reviews['stars'].value_counts().plot(kind='bar')\n",
    "plt.xlabel(\"star rating\")\n",
    "plt.ylabel(\"count\")\n",
    "plt.title(\"Sampled Review Dataset\")\n",
    "\n",
    "plt.show()"
   ]
  },
  {
   "cell_type": "code",
   "execution_count": 27,
   "metadata": {},
   "outputs": [
    {
     "data": {
      "text/plain": [
       "5.0    41450\n",
       "4.0    24736\n",
       "1.0    12402\n",
       "3.0    12311\n",
       "2.0     9101\n",
       "Name: stars, dtype: int64"
      ]
     },
     "execution_count": 27,
     "metadata": {},
     "output_type": "execute_result"
    }
   ],
   "source": [
    "reviews['stars'].value_counts()"
   ]
  },
  {
   "cell_type": "code",
   "execution_count": 34,
   "metadata": {},
   "outputs": [],
   "source": [
    "from sklearn.feature_extraction.text import TfidfVectorizer\n",
    "tfidf_vectorizer = TfidfVectorizer(ngram_range=(1,2))\n",
    "tfidf_vectorizer.fit(review_text)\n",
    "X = tfidf_vectorizer.transform(review_text)"
   ]
  },
  {
   "cell_type": "code",
   "execution_count": 35,
   "metadata": {},
   "outputs": [],
   "source": [
    "from sklearn.model_selection import train_test_split\n",
    "X_train, X_test, y_train, y_test = train_test_split(X, review_stars, test_size = 0.2)"
   ]
  },
  {
   "cell_type": "code",
   "execution_count": 36,
   "metadata": {},
   "outputs": [],
   "source": [
    "import xgboost\n",
    "from xgboost import XGBClassifier\n",
    "vanilla_xgb = XGBClassifier(objective='multi:softmax')\n",
    "vanilla_xgb.fit(X_train,y_train)\n",
    "predicted_vanilla_xgb = vanilla_xgb.predict(X_test)"
   ]
  },
  {
   "cell_type": "code",
   "execution_count": 39,
   "metadata": {},
   "outputs": [
    {
     "name": "stdout",
     "output_type": "stream",
     "text": [
      "Accuracy:  0.5602\n"
     ]
    }
   ],
   "source": [
    "from sklearn.metrics import accuracy_score\n",
    "print(\"Accuracy: \",round(accuracy_score(y_test, predicted_vanilla_xgb),4))"
   ]
  },
  {
   "cell_type": "code",
   "execution_count": 40,
   "metadata": {},
   "outputs": [
    {
     "name": "stdout",
     "output_type": "stream",
     "text": [
      "[0.57836735 0.11568409 0.1875     0.34609986 0.89595727]\n"
     ]
    }
   ],
   "source": [
    "from sklearn.metrics import confusion_matrix\n",
    "matrix = confusion_matrix(y_test, predicted_vanilla_xgb)\n",
    "accuracy_per_class = matrix.diagonal()/matrix.sum(axis=1)\n",
    "print(accuracy_per_class)"
   ]
  },
  {
   "cell_type": "code",
   "execution_count": 37,
   "metadata": {},
   "outputs": [
    {
     "data": {
      "text/plain": [
       "0.5573243997878999"
      ]
     },
     "execution_count": 37,
     "metadata": {},
     "output_type": "execute_result"
    }
   ],
   "source": [
    "#Verifying confusion matrix values, accuracy lines up with accuracy of entire model\n",
    "41450/100000*0.89001793 + 24736/100000*0.35058294 + 12311/100000*0.17139384 + 9101/100000*.11074919 + 12402/100000*.56855501"
   ]
  },
  {
   "cell_type": "markdown",
   "metadata": {},
   "source": [
    "Very accurately predicted 5 star reviews, prediction of 2 and 3 star reviews was very bad"
   ]
  },
  {
   "cell_type": "code",
   "execution_count": 42,
   "metadata": {},
   "outputs": [
    {
     "data": {
      "text/html": [
       "<div>\n",
       "<style scoped>\n",
       "    .dataframe tbody tr th:only-of-type {\n",
       "        vertical-align: middle;\n",
       "    }\n",
       "\n",
       "    .dataframe tbody tr th {\n",
       "        vertical-align: top;\n",
       "    }\n",
       "\n",
       "    .dataframe thead th {\n",
       "        text-align: right;\n",
       "    }\n",
       "</style>\n",
       "<table border=\"1\" class=\"dataframe\">\n",
       "  <thead>\n",
       "    <tr style=\"text-align: right;\">\n",
       "      <th></th>\n",
       "      <th>business_id</th>\n",
       "      <th>stars</th>\n",
       "      <th>text</th>\n",
       "      <th>date</th>\n",
       "      <th>length</th>\n",
       "    </tr>\n",
       "  </thead>\n",
       "  <tbody>\n",
       "    <tr>\n",
       "      <th>482838</th>\n",
       "      <td>f0160VdQERs6Y6Aq-Chvfw</td>\n",
       "      <td>4.0</td>\n",
       "      <td>hostess server attentive ordered american brea...</td>\n",
       "      <td>2018-08-14 04:31:39</td>\n",
       "      <td>289</td>\n",
       "    </tr>\n",
       "    <tr>\n",
       "      <th>4884586</th>\n",
       "      <td>d_L-rfS1vT3JMzgCUGtiow</td>\n",
       "      <td>4.0</td>\n",
       "      <td>border grill inside mandalay bay casino comple...</td>\n",
       "      <td>2014-04-21 23:24:38</td>\n",
       "      <td>664</td>\n",
       "    </tr>\n",
       "    <tr>\n",
       "      <th>1563872</th>\n",
       "      <td>RhEvP5flF6KoPriMHmVYGg</td>\n",
       "      <td>1.0</td>\n",
       "      <td>pro fairly new casino bit charm offer odds bj ...</td>\n",
       "      <td>2018-01-12 09:54:39</td>\n",
       "      <td>561</td>\n",
       "    </tr>\n",
       "    <tr>\n",
       "      <th>1827457</th>\n",
       "      <td>YWrDS9LORoKDBswrcGDqxQ</td>\n",
       "      <td>5.0</td>\n",
       "      <td>tried place ordered bacon breakfast burrito go...</td>\n",
       "      <td>2019-01-09 19:44:30</td>\n",
       "      <td>147</td>\n",
       "    </tr>\n",
       "    <tr>\n",
       "      <th>519194</th>\n",
       "      <td>73oP6zoYZKNlO8642EMD_Q</td>\n",
       "      <td>5.0</td>\n",
       "      <td>delicious fresh sandwich pack ingredient huge ...</td>\n",
       "      <td>2017-07-31 17:26:21</td>\n",
       "      <td>98</td>\n",
       "    </tr>\n",
       "  </tbody>\n",
       "</table>\n",
       "</div>"
      ],
      "text/plain": [
       "                    business_id  stars  \\\n",
       "482838   f0160VdQERs6Y6Aq-Chvfw    4.0   \n",
       "4884586  d_L-rfS1vT3JMzgCUGtiow    4.0   \n",
       "1563872  RhEvP5flF6KoPriMHmVYGg    1.0   \n",
       "1827457  YWrDS9LORoKDBswrcGDqxQ    5.0   \n",
       "519194   73oP6zoYZKNlO8642EMD_Q    5.0   \n",
       "\n",
       "                                                      text  \\\n",
       "482838   hostess server attentive ordered american brea...   \n",
       "4884586  border grill inside mandalay bay casino comple...   \n",
       "1563872  pro fairly new casino bit charm offer odds bj ...   \n",
       "1827457  tried place ordered bacon breakfast burrito go...   \n",
       "519194   delicious fresh sandwich pack ingredient huge ...   \n",
       "\n",
       "                        date  length  \n",
       "482838   2018-08-14 04:31:39     289  \n",
       "4884586  2014-04-21 23:24:38     664  \n",
       "1563872  2018-01-12 09:54:39     561  \n",
       "1827457  2019-01-09 19:44:30     147  \n",
       "519194   2017-07-31 17:26:21      98  "
      ]
     },
     "execution_count": 42,
     "metadata": {},
     "output_type": "execute_result"
    }
   ],
   "source": [
    "reviews2 = data.sample(n=30000,random_state=42)\n",
    "review_text2 = reviews2['text']\n",
    "review_stars2 = reviews2['stars']\n",
    "reviews2.head()"
   ]
  },
  {
   "cell_type": "code",
   "execution_count": 43,
   "metadata": {},
   "outputs": [],
   "source": [
    "from sklearn.feature_extraction.text import CountVectorizer\n",
    "\n",
    "cv = CountVectorizer(ngram_range=(1, 2))\n",
    "cv.fit(review_text2)\n",
    "X2 = cv.transform(review_text2)"
   ]
  },
  {
   "cell_type": "code",
   "execution_count": 44,
   "metadata": {},
   "outputs": [],
   "source": [
    "from sklearn.model_selection import train_test_split\n",
    "X_train, X_test, y_train, y_test = train_test_split(X2, review_stars2, test_size = 0.2)"
   ]
  },
  {
   "cell_type": "code",
   "execution_count": 45,
   "metadata": {},
   "outputs": [],
   "source": [
    "import xgboost\n",
    "from xgboost import XGBClassifier\n",
    "vanilla_xgb_cv = XGBClassifier(objective='multi:softmax')\n",
    "vanilla_xgb_cv.fit(X_train,y_train)\n",
    "predicted_vanilla_xgb_cv = vanilla_xgb_cv.predict(X_test)"
   ]
  },
  {
   "cell_type": "code",
   "execution_count": 46,
   "metadata": {},
   "outputs": [
    {
     "name": "stdout",
     "output_type": "stream",
     "text": [
      "Accuracy:  0.5405\n"
     ]
    }
   ],
   "source": [
    "from sklearn.metrics import accuracy_score\n",
    "print(\"Accuracy: \",round(accuracy_score(y_test, predicted_vanilla_xgb_cv),4))"
   ]
  },
  {
   "cell_type": "code",
   "execution_count": 47,
   "metadata": {},
   "outputs": [
    {
     "name": "stdout",
     "output_type": "stream",
     "text": [
      "[0.55906593 0.13011152 0.13718412 0.28513238 0.91851852]\n"
     ]
    }
   ],
   "source": [
    "from sklearn.metrics import confusion_matrix\n",
    "matrix = confusion_matrix(y_test, predicted_vanilla_xgb_cv)\n",
    "accuracy_per_class = matrix.diagonal()/matrix.sum(axis=1)\n",
    "print(accuracy_per_class)"
   ]
  },
  {
   "cell_type": "code",
   "execution_count": 62,
   "metadata": {},
   "outputs": [
    {
     "data": {
      "text/html": [
       "<div>\n",
       "<style scoped>\n",
       "    .dataframe tbody tr th:only-of-type {\n",
       "        vertical-align: middle;\n",
       "    }\n",
       "\n",
       "    .dataframe tbody tr th {\n",
       "        vertical-align: top;\n",
       "    }\n",
       "\n",
       "    .dataframe thead th {\n",
       "        text-align: right;\n",
       "    }\n",
       "</style>\n",
       "<table border=\"1\" class=\"dataframe\">\n",
       "  <thead>\n",
       "    <tr style=\"text-align: right;\">\n",
       "      <th></th>\n",
       "      <th>business_id</th>\n",
       "      <th>stars</th>\n",
       "      <th>text</th>\n",
       "      <th>date</th>\n",
       "      <th>length</th>\n",
       "    </tr>\n",
       "  </thead>\n",
       "  <tbody>\n",
       "    <tr>\n",
       "      <th>482838</th>\n",
       "      <td>f0160VdQERs6Y6Aq-Chvfw</td>\n",
       "      <td>4.0</td>\n",
       "      <td>hostess server attentive ordered american brea...</td>\n",
       "      <td>2018-08-14 04:31:39</td>\n",
       "      <td>289</td>\n",
       "    </tr>\n",
       "    <tr>\n",
       "      <th>4884586</th>\n",
       "      <td>d_L-rfS1vT3JMzgCUGtiow</td>\n",
       "      <td>4.0</td>\n",
       "      <td>border grill inside mandalay bay casino comple...</td>\n",
       "      <td>2014-04-21 23:24:38</td>\n",
       "      <td>664</td>\n",
       "    </tr>\n",
       "    <tr>\n",
       "      <th>1563872</th>\n",
       "      <td>RhEvP5flF6KoPriMHmVYGg</td>\n",
       "      <td>1.0</td>\n",
       "      <td>pro fairly new casino bit charm offer odds bj ...</td>\n",
       "      <td>2018-01-12 09:54:39</td>\n",
       "      <td>561</td>\n",
       "    </tr>\n",
       "    <tr>\n",
       "      <th>1827457</th>\n",
       "      <td>YWrDS9LORoKDBswrcGDqxQ</td>\n",
       "      <td>5.0</td>\n",
       "      <td>tried place ordered bacon breakfast burrito go...</td>\n",
       "      <td>2019-01-09 19:44:30</td>\n",
       "      <td>147</td>\n",
       "    </tr>\n",
       "    <tr>\n",
       "      <th>519194</th>\n",
       "      <td>73oP6zoYZKNlO8642EMD_Q</td>\n",
       "      <td>5.0</td>\n",
       "      <td>delicious fresh sandwich pack ingredient huge ...</td>\n",
       "      <td>2017-07-31 17:26:21</td>\n",
       "      <td>98</td>\n",
       "    </tr>\n",
       "  </tbody>\n",
       "</table>\n",
       "</div>"
      ],
      "text/plain": [
       "                    business_id  stars  \\\n",
       "482838   f0160VdQERs6Y6Aq-Chvfw    4.0   \n",
       "4884586  d_L-rfS1vT3JMzgCUGtiow    4.0   \n",
       "1563872  RhEvP5flF6KoPriMHmVYGg    1.0   \n",
       "1827457  YWrDS9LORoKDBswrcGDqxQ    5.0   \n",
       "519194   73oP6zoYZKNlO8642EMD_Q    5.0   \n",
       "\n",
       "                                                      text  \\\n",
       "482838   hostess server attentive ordered american brea...   \n",
       "4884586  border grill inside mandalay bay casino comple...   \n",
       "1563872  pro fairly new casino bit charm offer odds bj ...   \n",
       "1827457  tried place ordered bacon breakfast burrito go...   \n",
       "519194   delicious fresh sandwich pack ingredient huge ...   \n",
       "\n",
       "                        date  length  \n",
       "482838   2018-08-14 04:31:39     289  \n",
       "4884586  2014-04-21 23:24:38     664  \n",
       "1563872  2018-01-12 09:54:39     561  \n",
       "1827457  2019-01-09 19:44:30     147  \n",
       "519194   2017-07-31 17:26:21      98  "
      ]
     },
     "execution_count": 62,
     "metadata": {},
     "output_type": "execute_result"
    }
   ],
   "source": [
    "reviews4 = data.sample(n=30000,random_state=42)\n",
    "review_text4 = reviews4['text']\n",
    "review_stars4 = reviews4['stars']\n",
    "reviews4.head()"
   ]
  },
  {
   "cell_type": "code",
   "execution_count": 63,
   "metadata": {},
   "outputs": [],
   "source": [
    "from sklearn.feature_extraction.text import TfidfVectorizer\n",
    "tfidf_vectorizer = TfidfVectorizer(ngram_range=(1,2))\n",
    "tfidf_vectorizer.fit(review_text4)\n",
    "X4 = tfidf_vectorizer.transform(review_text4)"
   ]
  },
  {
   "cell_type": "code",
   "execution_count": 64,
   "metadata": {},
   "outputs": [],
   "source": [
    "from sklearn.model_selection import train_test_split\n",
    "X_train, X_test, y_train, y_test = train_test_split(X4, review_stars4, test_size = 0.2)"
   ]
  },
  {
   "cell_type": "code",
   "execution_count": 66,
   "metadata": {},
   "outputs": [],
   "source": [
    "import xgboost\n",
    "from xgboost import XGBClassifier\n",
    "xgb_online = XGBClassifier(\n",
    " learning_rate=0.25,\n",
    " max_depth=5,\n",
    " min_child_weight=1,\n",
    " objective='multi:softmax')\n",
    "xgb_online.fit(X_train,y_train)\n",
    "predicted_xgb_online = xgb_online.predict(X_test)"
   ]
  },
  {
   "cell_type": "code",
   "execution_count": 67,
   "metadata": {},
   "outputs": [
    {
     "name": "stdout",
     "output_type": "stream",
     "text": [
      "Accuracy:  0.5857\n"
     ]
    }
   ],
   "source": [
    "from sklearn.metrics import accuracy_score\n",
    "print(\"Accuracy: \",round(accuracy_score(y_test, predicted_xgb_online),4))"
   ]
  },
  {
   "cell_type": "code",
   "execution_count": 68,
   "metadata": {},
   "outputs": [
    {
     "name": "stdout",
     "output_type": "stream",
     "text": [
      "[0.66453265 0.23050847 0.27439887 0.38941019 0.85761317]\n"
     ]
    }
   ],
   "source": [
    "from sklearn.metrics import confusion_matrix\n",
    "matrix = confusion_matrix(y_test, predicted_xgb_online)\n",
    "accuracy_per_class = matrix.diagonal()/matrix.sum(axis=1)\n",
    "print(accuracy_per_class)"
   ]
  },
  {
   "cell_type": "code",
   "execution_count": 83,
   "metadata": {},
   "outputs": [
    {
     "data": {
      "text/html": [
       "<div>\n",
       "<style scoped>\n",
       "    .dataframe tbody tr th:only-of-type {\n",
       "        vertical-align: middle;\n",
       "    }\n",
       "\n",
       "    .dataframe tbody tr th {\n",
       "        vertical-align: top;\n",
       "    }\n",
       "\n",
       "    .dataframe thead th {\n",
       "        text-align: right;\n",
       "    }\n",
       "</style>\n",
       "<table border=\"1\" class=\"dataframe\">\n",
       "  <thead>\n",
       "    <tr style=\"text-align: right;\">\n",
       "      <th></th>\n",
       "      <th>business_id</th>\n",
       "      <th>stars</th>\n",
       "      <th>text</th>\n",
       "      <th>date</th>\n",
       "      <th>length</th>\n",
       "    </tr>\n",
       "  </thead>\n",
       "  <tbody>\n",
       "    <tr>\n",
       "      <th>482838</th>\n",
       "      <td>f0160VdQERs6Y6Aq-Chvfw</td>\n",
       "      <td>4.0</td>\n",
       "      <td>hostess server attentive ordered american brea...</td>\n",
       "      <td>2018-08-14 04:31:39</td>\n",
       "      <td>289</td>\n",
       "    </tr>\n",
       "    <tr>\n",
       "      <th>4884586</th>\n",
       "      <td>d_L-rfS1vT3JMzgCUGtiow</td>\n",
       "      <td>4.0</td>\n",
       "      <td>border grill inside mandalay bay casino comple...</td>\n",
       "      <td>2014-04-21 23:24:38</td>\n",
       "      <td>664</td>\n",
       "    </tr>\n",
       "    <tr>\n",
       "      <th>1563872</th>\n",
       "      <td>RhEvP5flF6KoPriMHmVYGg</td>\n",
       "      <td>1.0</td>\n",
       "      <td>pro fairly new casino bit charm offer odds bj ...</td>\n",
       "      <td>2018-01-12 09:54:39</td>\n",
       "      <td>561</td>\n",
       "    </tr>\n",
       "    <tr>\n",
       "      <th>1827457</th>\n",
       "      <td>YWrDS9LORoKDBswrcGDqxQ</td>\n",
       "      <td>5.0</td>\n",
       "      <td>tried place ordered bacon breakfast burrito go...</td>\n",
       "      <td>2019-01-09 19:44:30</td>\n",
       "      <td>147</td>\n",
       "    </tr>\n",
       "    <tr>\n",
       "      <th>519194</th>\n",
       "      <td>73oP6zoYZKNlO8642EMD_Q</td>\n",
       "      <td>5.0</td>\n",
       "      <td>delicious fresh sandwich pack ingredient huge ...</td>\n",
       "      <td>2017-07-31 17:26:21</td>\n",
       "      <td>98</td>\n",
       "    </tr>\n",
       "  </tbody>\n",
       "</table>\n",
       "</div>"
      ],
      "text/plain": [
       "                    business_id  stars  \\\n",
       "482838   f0160VdQERs6Y6Aq-Chvfw    4.0   \n",
       "4884586  d_L-rfS1vT3JMzgCUGtiow    4.0   \n",
       "1563872  RhEvP5flF6KoPriMHmVYGg    1.0   \n",
       "1827457  YWrDS9LORoKDBswrcGDqxQ    5.0   \n",
       "519194   73oP6zoYZKNlO8642EMD_Q    5.0   \n",
       "\n",
       "                                                      text  \\\n",
       "482838   hostess server attentive ordered american brea...   \n",
       "4884586  border grill inside mandalay bay casino comple...   \n",
       "1563872  pro fairly new casino bit charm offer odds bj ...   \n",
       "1827457  tried place ordered bacon breakfast burrito go...   \n",
       "519194   delicious fresh sandwich pack ingredient huge ...   \n",
       "\n",
       "                        date  length  \n",
       "482838   2018-08-14 04:31:39     289  \n",
       "4884586  2014-04-21 23:24:38     664  \n",
       "1563872  2018-01-12 09:54:39     561  \n",
       "1827457  2019-01-09 19:44:30     147  \n",
       "519194   2017-07-31 17:26:21      98  "
      ]
     },
     "execution_count": 83,
     "metadata": {},
     "output_type": "execute_result"
    }
   ],
   "source": [
    "reviews5 = data.sample(n=30000,random_state=42)\n",
    "review_text5 = reviews5['text']\n",
    "review_stars5 = reviews5['stars']\n",
    "reviews5.head()"
   ]
  },
  {
   "cell_type": "code",
   "execution_count": 84,
   "metadata": {},
   "outputs": [],
   "source": [
    "reviews5['positive'] = reviews5['stars'].apply(lambda x: 1 if float(x) >= 3 else 0)"
   ]
  },
  {
   "cell_type": "code",
   "execution_count": 85,
   "metadata": {},
   "outputs": [],
   "source": [
    "from sklearn.feature_extraction.text import TfidfVectorizer\n",
    "tfidf_vectorizer = TfidfVectorizer(ngram_range=(1,2))\n",
    "tfidf_vectorizer.fit(review_text5)\n",
    "X5 = tfidf_vectorizer.transform(review_text5)"
   ]
  },
  {
   "cell_type": "code",
   "execution_count": 86,
   "metadata": {},
   "outputs": [],
   "source": [
    "from sklearn.model_selection import train_test_split\n",
    "import scipy.sparse\n",
    "\n",
    "sparce = pd.DataFrame.sparse.from_spmatrix(X5)\n",
    "include_pos = sparce\n",
    "include_pos['type'] = reviews5['positive']\n"
   ]
  },
  {
   "cell_type": "code",
   "execution_count": 87,
   "metadata": {},
   "outputs": [],
   "source": [
    "X_train, X_test, y_train, y_test = train_test_split(include_pos, review_stars5, test_size = 0.2)"
   ]
  },
  {
   "cell_type": "code",
   "execution_count": 88,
   "metadata": {},
   "outputs": [
    {
     "ename": "TypeError",
     "evalue": "sequence item 0: expected str instance, int found",
     "output_type": "error",
     "traceback": [
      "\u001b[0;31m---------------------------------------------------------------------------\u001b[0m",
      "\u001b[0;31mTypeError\u001b[0m                                 Traceback (most recent call last)",
      "\u001b[0;32m<ipython-input-88-80f3dcf76cc9>\u001b[0m in \u001b[0;36m<module>\u001b[0;34m\u001b[0m\n\u001b[1;32m      6\u001b[0m  \u001b[0mmin_child_weight\u001b[0m\u001b[0;34m=\u001b[0m\u001b[0;36m1\u001b[0m\u001b[0;34m,\u001b[0m\u001b[0;34m\u001b[0m\u001b[0;34m\u001b[0m\u001b[0m\n\u001b[1;32m      7\u001b[0m  objective='multi:softmax')\n\u001b[0;32m----> 8\u001b[0;31m \u001b[0mxgb_online\u001b[0m\u001b[0;34m.\u001b[0m\u001b[0mfit\u001b[0m\u001b[0;34m(\u001b[0m\u001b[0mX_train\u001b[0m\u001b[0;34m,\u001b[0m\u001b[0my_train\u001b[0m\u001b[0;34m)\u001b[0m\u001b[0;34m\u001b[0m\u001b[0;34m\u001b[0m\u001b[0m\n\u001b[0m\u001b[1;32m      9\u001b[0m \u001b[0mpredicted_xgb_online\u001b[0m \u001b[0;34m=\u001b[0m \u001b[0mxgb_online\u001b[0m\u001b[0;34m.\u001b[0m\u001b[0mpredict\u001b[0m\u001b[0;34m(\u001b[0m\u001b[0mX_test\u001b[0m\u001b[0;34m)\u001b[0m\u001b[0;34m\u001b[0m\u001b[0;34m\u001b[0m\u001b[0m\n",
      "\u001b[0;32m~/opt/anaconda3/lib/python3.7/site-packages/xgboost/sklearn.py\u001b[0m in \u001b[0;36mfit\u001b[0;34m(self, X, y, sample_weight, eval_set, eval_metric, early_stopping_rounds, verbose, xgb_model, sample_weight_eval_set, callbacks)\u001b[0m\n\u001b[1;32m    724\u001b[0m         \u001b[0;32melse\u001b[0m\u001b[0;34m:\u001b[0m\u001b[0;34m\u001b[0m\u001b[0;34m\u001b[0m\u001b[0m\n\u001b[1;32m    725\u001b[0m             train_dmatrix = DMatrix(X, label=training_labels,\n\u001b[0;32m--> 726\u001b[0;31m                                     missing=self.missing, nthread=self.n_jobs)\n\u001b[0m\u001b[1;32m    727\u001b[0m \u001b[0;34m\u001b[0m\u001b[0m\n\u001b[1;32m    728\u001b[0m         self._Booster = train(xgb_options, train_dmatrix, self.get_num_boosting_rounds(),\n",
      "\u001b[0;32m~/opt/anaconda3/lib/python3.7/site-packages/xgboost/core.py\u001b[0m in \u001b[0;36m__init__\u001b[0;34m(self, data, label, missing, weight, silent, feature_names, feature_types, nthread)\u001b[0m\n\u001b[1;32m    378\u001b[0m         data, feature_names, feature_types = _maybe_pandas_data(data,\n\u001b[1;32m    379\u001b[0m                                                                 \u001b[0mfeature_names\u001b[0m\u001b[0;34m,\u001b[0m\u001b[0;34m\u001b[0m\u001b[0;34m\u001b[0m\u001b[0m\n\u001b[0;32m--> 380\u001b[0;31m                                                                 feature_types)\n\u001b[0m\u001b[1;32m    381\u001b[0m \u001b[0;34m\u001b[0m\u001b[0m\n\u001b[1;32m    382\u001b[0m         data, feature_names, feature_types = _maybe_dt_data(data,\n",
      "\u001b[0;32m~/opt/anaconda3/lib/python3.7/site-packages/xgboost/core.py\u001b[0m in \u001b[0;36m_maybe_pandas_data\u001b[0;34m(data, feature_names, feature_types)\u001b[0m\n\u001b[1;32m    237\u001b[0m         msg = \"\"\"DataFrame.dtypes for data must be int, float or bool.\n\u001b[1;32m    238\u001b[0m                 Did not expect the data types in fields \"\"\"\n\u001b[0;32m--> 239\u001b[0;31m         \u001b[0;32mraise\u001b[0m \u001b[0mValueError\u001b[0m\u001b[0;34m(\u001b[0m\u001b[0mmsg\u001b[0m \u001b[0;34m+\u001b[0m \u001b[0;34m', '\u001b[0m\u001b[0;34m.\u001b[0m\u001b[0mjoin\u001b[0m\u001b[0;34m(\u001b[0m\u001b[0mbad_fields\u001b[0m\u001b[0;34m)\u001b[0m\u001b[0;34m)\u001b[0m\u001b[0;34m\u001b[0m\u001b[0;34m\u001b[0m\u001b[0m\n\u001b[0m\u001b[1;32m    240\u001b[0m \u001b[0;34m\u001b[0m\u001b[0m\n\u001b[1;32m    241\u001b[0m     \u001b[0;32mif\u001b[0m \u001b[0mfeature_names\u001b[0m \u001b[0;32mis\u001b[0m \u001b[0;32mNone\u001b[0m\u001b[0;34m:\u001b[0m\u001b[0;34m\u001b[0m\u001b[0;34m\u001b[0m\u001b[0m\n",
      "\u001b[0;31mTypeError\u001b[0m: sequence item 0: expected str instance, int found"
     ]
    }
   ],
   "source": [
    "import xgboost\n",
    "from xgboost import XGBClassifier\n",
    "xgb_online = XGBClassifier(\n",
    " learning_rate=0.25,\n",
    " max_depth=5,\n",
    " min_child_weight=1,\n",
    " objective='multi:softmax')\n",
    "xgb_online.fit(X_train,y_train)\n",
    "predicted_xgb_online = xgb_online.predict(X_test)"
   ]
  },
  {
   "cell_type": "markdown",
   "metadata": {},
   "source": [
    "Balance Sample"
   ]
  },
  {
   "cell_type": "code",
   "execution_count": 51,
   "metadata": {},
   "outputs": [],
   "source": [
    "df1star = data.loc[data['stars'] == 1.0]\n",
    "df2star = data.loc[data['stars'] == 2.0]\n",
    "df3star = data.loc[data['stars'] == 3.0]\n",
    "df4star = data.loc[data['stars'] == 4.0]\n",
    "df5star = data.loc[data['stars'] == 5.0]"
   ]
  },
  {
   "cell_type": "code",
   "execution_count": 52,
   "metadata": {},
   "outputs": [
    {
     "data": {
      "text/html": [
       "<div>\n",
       "<style scoped>\n",
       "    .dataframe tbody tr th:only-of-type {\n",
       "        vertical-align: middle;\n",
       "    }\n",
       "\n",
       "    .dataframe tbody tr th {\n",
       "        vertical-align: top;\n",
       "    }\n",
       "\n",
       "    .dataframe thead th {\n",
       "        text-align: right;\n",
       "    }\n",
       "</style>\n",
       "<table border=\"1\" class=\"dataframe\">\n",
       "  <thead>\n",
       "    <tr style=\"text-align: right;\">\n",
       "      <th></th>\n",
       "      <th>business_id</th>\n",
       "      <th>stars</th>\n",
       "      <th>text</th>\n",
       "      <th>date</th>\n",
       "      <th>length</th>\n",
       "    </tr>\n",
       "  </thead>\n",
       "  <tbody>\n",
       "    <tr>\n",
       "      <th>1733121</th>\n",
       "      <td>YaTlfyPieOXwHH16wzieFg</td>\n",
       "      <td>1.0</td>\n",
       "      <td>visited tuesday around pm couple people line f...</td>\n",
       "      <td>2016-09-14 18:33:25</td>\n",
       "      <td>589</td>\n",
       "    </tr>\n",
       "    <tr>\n",
       "      <th>134211</th>\n",
       "      <td>SNxWzC-vH0vbrccidZDyGw</td>\n",
       "      <td>1.0</td>\n",
       "      <td>douche baggery central wow wow attempted eat d...</td>\n",
       "      <td>2017-06-22 04:00:03</td>\n",
       "      <td>123</td>\n",
       "    </tr>\n",
       "    <tr>\n",
       "      <th>4055461</th>\n",
       "      <td>OnGPegQGuQ5_uuFLvezvKw</td>\n",
       "      <td>1.0</td>\n",
       "      <td>disappointing experience take order shun lee s...</td>\n",
       "      <td>2011-12-01 01:30:48</td>\n",
       "      <td>557</td>\n",
       "    </tr>\n",
       "    <tr>\n",
       "      <th>4503015</th>\n",
       "      <td>f3JTeAUZyyLvz5TAUEbMew</td>\n",
       "      <td>1.0</td>\n",
       "      <td>excited check place horrible went girl work dr...</td>\n",
       "      <td>2019-05-27 00:12:01</td>\n",
       "      <td>225</td>\n",
       "    </tr>\n",
       "    <tr>\n",
       "      <th>1488284</th>\n",
       "      <td>zU9w_xRlQSRIYXxGo-HSOA</td>\n",
       "      <td>1.0</td>\n",
       "      <td>horrible food made u sick potato pancake taste...</td>\n",
       "      <td>2017-11-19 02:26:47</td>\n",
       "      <td>84</td>\n",
       "    </tr>\n",
       "  </tbody>\n",
       "</table>\n",
       "</div>"
      ],
      "text/plain": [
       "                    business_id  stars  \\\n",
       "1733121  YaTlfyPieOXwHH16wzieFg    1.0   \n",
       "134211   SNxWzC-vH0vbrccidZDyGw    1.0   \n",
       "4055461  OnGPegQGuQ5_uuFLvezvKw    1.0   \n",
       "4503015  f3JTeAUZyyLvz5TAUEbMew    1.0   \n",
       "1488284  zU9w_xRlQSRIYXxGo-HSOA    1.0   \n",
       "\n",
       "                                                      text  \\\n",
       "1733121  visited tuesday around pm couple people line f...   \n",
       "134211   douche baggery central wow wow attempted eat d...   \n",
       "4055461  disappointing experience take order shun lee s...   \n",
       "4503015  excited check place horrible went girl work dr...   \n",
       "1488284  horrible food made u sick potato pancake taste...   \n",
       "\n",
       "                        date  length  \n",
       "1733121  2016-09-14 18:33:25     589  \n",
       "134211   2017-06-22 04:00:03     123  \n",
       "4055461  2011-12-01 01:30:48     557  \n",
       "4503015  2019-05-27 00:12:01     225  \n",
       "1488284  2017-11-19 02:26:47      84  "
      ]
     },
     "execution_count": 52,
     "metadata": {},
     "output_type": "execute_result"
    }
   ],
   "source": [
    "reviews1star = df1star.sample(n=7000,random_state=42)\n",
    "reviews2star = df2star.sample(n=7000,random_state=42)\n",
    "reviews3star = df3star.sample(n=7000,random_state=42)\n",
    "reviews4star = df4star.sample(n=7000,random_state=42)\n",
    "reviews5star = df5star.sample(n=7000,random_state=42)\n",
    "balanced_reviews = pd.concat([reviews1star, reviews2star, reviews3star, reviews4star, reviews5star])\n",
    "review_text3 = balanced_reviews['text']\n",
    "review_stars3 = balanced_reviews['stars']\n",
    "balanced_reviews.head()"
   ]
  },
  {
   "cell_type": "code",
   "execution_count": 53,
   "metadata": {},
   "outputs": [
    {
     "data": {
      "image/png": "[encoded data removed]",
      "text/plain": [
       "<Figure size 432x288 with 1 Axes>"
      ]
     },
     "metadata": {
      "needs_background": "light"
     },
     "output_type": "display_data"
    }
   ],
   "source": [
    "balanced_reviews['stars'].value_counts().plot(kind='bar')\n",
    "plt.xlabel(\"star rating\")\n",
    "plt.ylabel(\"count\")\n",
    "plt.title(\"Sampled Review Dataset\")\n",
    "\n",
    "plt.show()"
   ]
  },
  {
   "cell_type": "code",
   "execution_count": 54,
   "metadata": {},
   "outputs": [],
   "source": [
    "from sklearn.utils import shuffle\n",
    "balanced_reviews = shuffle(balanced_reviews)"
   ]
  },
  {
   "cell_type": "code",
   "execution_count": 56,
   "metadata": {},
   "outputs": [],
   "source": [
    "from sklearn.feature_extraction.text import TfidfVectorizer\n",
    "tfidf_vectorizer = TfidfVectorizer(ngram_range=(1,2))\n",
    "tfidf_vectorizer.fit(review_text3)\n",
    "X3 = tfidf_vectorizer.transform(review_text3)"
   ]
  },
  {
   "cell_type": "code",
   "execution_count": 58,
   "metadata": {},
   "outputs": [],
   "source": [
    "from sklearn.model_selection import train_test_split\n",
    "X_train, X_test, y_train, y_test = train_test_split(X3, review_stars3, test_size = 0.2)"
   ]
  },
  {
   "cell_type": "code",
   "execution_count": 59,
   "metadata": {},
   "outputs": [],
   "source": [
    "import xgboost\n",
    "from xgboost import XGBClassifier\n",
    "vanilla_xgb_balanced = XGBClassifier(objective='multi:softmax')\n",
    "vanilla_xgb_balanced.fit(X_train,y_train)\n",
    "predicted_vanilla_xgb_balanced = vanilla_xgb_balanced.predict(X_test)"
   ]
  },
  {
   "cell_type": "code",
   "execution_count": 60,
   "metadata": {},
   "outputs": [
    {
     "name": "stdout",
     "output_type": "stream",
     "text": [
      "Accuracy:  0.4999\n"
     ]
    }
   ],
   "source": [
    "from sklearn.metrics import accuracy_score\n",
    "print(\"Accuracy: \",round(accuracy_score(y_test, predicted_vanilla_xgb_balanced),4))"
   ]
  },
  {
   "cell_type": "code",
   "execution_count": 61,
   "metadata": {},
   "outputs": [
    {
     "name": "stdout",
     "output_type": "stream",
     "text": [
      "[0.74004345 0.32377622 0.39372325 0.39448876 0.65198864]\n"
     ]
    }
   ],
   "source": [
    "from sklearn.metrics import confusion_matrix\n",
    "matrix = confusion_matrix(y_test, predicted_vanilla_xgb_balanced)\n",
    "accuracy_per_class = matrix.diagonal()/matrix.sum(axis=1)\n",
    "print(accuracy_per_class)"
   ]
  },
  {
   "cell_type": "code",
   "execution_count": null,
   "metadata": {},
   "outputs": [],
   "source": []
  },
  {
   "cell_type": "code",
   "execution_count": 9,
   "metadata": {},
   "outputs": [
    {
     "data": {
      "image/png": "[encoded data removed]",
      "text/plain": [
       "<Figure size 864x720 with 1 Axes>"
      ]
     },
     "metadata": {
      "needs_background": "light"
     },
     "output_type": "display_data"
    }
   ],
   "source": [
    "from sklearn.feature_extraction.text import CountVectorizer\n",
    "import numpy as np\n",
    "import collections\n",
    "cv = CountVectorizer()\n",
    "bow = cv.fit_transform(review_text)\n",
    "word_freq = dict(zip(cv.get_feature_names(), np.asarray(bow.sum(axis=0)).ravel()))\n",
    "word_counter = collections.Counter(word_freq)\n",
    "word_counter_df = pd.DataFrame(word_counter.most_common(20), columns = ['word', 'freq'])\n",
    "fig, ax = plt.subplots(figsize=(12, 10))\n",
    "sns.barplot(x=\"word\", y=\"freq\", data=word_counter_df, palette=\"Blues_d\", ax=ax)\n",
    "plt.show();"
   ]
  },
  {
   "cell_type": "markdown",
   "metadata": {},
   "source": [
    "Many occurrences of word 'food', is there a way to focus on words of actual importance? and not just individual bag of words"
   ]
  },
  {
   "cell_type": "markdown",
   "metadata": {},
   "source": [
    "Add length"
   ]
  },
  {
   "cell_type": "code",
   "execution_count": 91,
   "metadata": {},
   "outputs": [
    {
     "data": {
      "text/html": [
       "<div>\n",
       "<style scoped>\n",
       "    .dataframe tbody tr th:only-of-type {\n",
       "        vertical-align: middle;\n",
       "    }\n",
       "\n",
       "    .dataframe tbody tr th {\n",
       "        vertical-align: top;\n",
       "    }\n",
       "\n",
       "    .dataframe thead th {\n",
       "        text-align: right;\n",
       "    }\n",
       "</style>\n",
       "<table border=\"1\" class=\"dataframe\">\n",
       "  <thead>\n",
       "    <tr style=\"text-align: right;\">\n",
       "      <th></th>\n",
       "      <th>business_id</th>\n",
       "      <th>stars</th>\n",
       "      <th>text</th>\n",
       "      <th>date</th>\n",
       "      <th>length</th>\n",
       "    </tr>\n",
       "  </thead>\n",
       "  <tbody>\n",
       "    <tr>\n",
       "      <th>482838</th>\n",
       "      <td>f0160VdQERs6Y6Aq-Chvfw</td>\n",
       "      <td>4.0</td>\n",
       "      <td>hostess server attentive ordered american brea...</td>\n",
       "      <td>2018-08-14 04:31:39</td>\n",
       "      <td>289</td>\n",
       "    </tr>\n",
       "    <tr>\n",
       "      <th>4884586</th>\n",
       "      <td>d_L-rfS1vT3JMzgCUGtiow</td>\n",
       "      <td>4.0</td>\n",
       "      <td>border grill inside mandalay bay casino comple...</td>\n",
       "      <td>2014-04-21 23:24:38</td>\n",
       "      <td>664</td>\n",
       "    </tr>\n",
       "    <tr>\n",
       "      <th>1563872</th>\n",
       "      <td>RhEvP5flF6KoPriMHmVYGg</td>\n",
       "      <td>1.0</td>\n",
       "      <td>pro fairly new casino bit charm offer odds bj ...</td>\n",
       "      <td>2018-01-12 09:54:39</td>\n",
       "      <td>561</td>\n",
       "    </tr>\n",
       "    <tr>\n",
       "      <th>1827457</th>\n",
       "      <td>YWrDS9LORoKDBswrcGDqxQ</td>\n",
       "      <td>5.0</td>\n",
       "      <td>tried place ordered bacon breakfast burrito go...</td>\n",
       "      <td>2019-01-09 19:44:30</td>\n",
       "      <td>147</td>\n",
       "    </tr>\n",
       "    <tr>\n",
       "      <th>519194</th>\n",
       "      <td>73oP6zoYZKNlO8642EMD_Q</td>\n",
       "      <td>5.0</td>\n",
       "      <td>delicious fresh sandwich pack ingredient huge ...</td>\n",
       "      <td>2017-07-31 17:26:21</td>\n",
       "      <td>98</td>\n",
       "    </tr>\n",
       "  </tbody>\n",
       "</table>\n",
       "</div>"
      ],
      "text/plain": [
       "                    business_id  stars  \\\n",
       "482838   f0160VdQERs6Y6Aq-Chvfw    4.0   \n",
       "4884586  d_L-rfS1vT3JMzgCUGtiow    4.0   \n",
       "1563872  RhEvP5flF6KoPriMHmVYGg    1.0   \n",
       "1827457  YWrDS9LORoKDBswrcGDqxQ    5.0   \n",
       "519194   73oP6zoYZKNlO8642EMD_Q    5.0   \n",
       "\n",
       "                                                      text  \\\n",
       "482838   hostess server attentive ordered american brea...   \n",
       "4884586  border grill inside mandalay bay casino comple...   \n",
       "1563872  pro fairly new casino bit charm offer odds bj ...   \n",
       "1827457  tried place ordered bacon breakfast burrito go...   \n",
       "519194   delicious fresh sandwich pack ingredient huge ...   \n",
       "\n",
       "                        date  length  \n",
       "482838   2018-08-14 04:31:39     289  \n",
       "4884586  2014-04-21 23:24:38     664  \n",
       "1563872  2018-01-12 09:54:39     561  \n",
       "1827457  2019-01-09 19:44:30     147  \n",
       "519194   2017-07-31 17:26:21      98  "
      ]
     },
     "execution_count": 91,
     "metadata": {},
     "output_type": "execute_result"
    }
   ],
   "source": [
    "reviews = data_withlength.sample(n=100000,random_state=42)\n",
    "review_text = reviews['text']\n",
    "review_stars = reviews['stars']\n",
    "reviews_length = reviews['length']\n",
    "reviews.head()\n"
   ]
  },
  {
   "cell_type": "code",
   "execution_count": 92,
   "metadata": {},
   "outputs": [
    {
     "data": {
      "text/plain": [
       "['business_id', 'stars', 'text', 'date', 'length']"
      ]
     },
     "execution_count": 92,
     "metadata": {},
     "output_type": "execute_result"
    }
   ],
   "source": [
    "reviews.columns.tolist()"
   ]
  },
  {
   "cell_type": "code",
   "execution_count": 94,
   "metadata": {},
   "outputs": [],
   "source": [
    "from sklearn.base import BaseEstimator, TransformerMixin\n",
    "class ColumnExtractor(TransformerMixin, BaseEstimator):\n",
    "    def __init__(self, cols):\n",
    "        self.cols = cols\n",
    "    def transform(self, X, **transform_params):\n",
    "        return X[self.cols]\n",
    "    def fit(self, X, y=None, **fit_params):\n",
    "        return self\n",
    "X_train, X_test, y_train, y_test = train_test_split(reviews.drop(columns = ['business_id', 'date']), review_stars, test_size=0.2, random_state=37)"
   ]
  },
  {
   "cell_type": "code",
   "execution_count": 98,
   "metadata": {},
   "outputs": [],
   "source": [
    "# Based on http://scikit-learn.org/stable/auto_examples/model_selection/grid_search_text_feature_extraction.html\n",
    "from pprint import pprint\n",
    "from sklearn.metrics import classification_report\n",
    "\n",
    "def grid_vect(clf, parameters_clf, X_train, X_test, parameters_text=None, vect=None, is_w2v=False):\n",
    "    \n",
    "    textcountscols = ['length']\n",
    "    \n",
    "    if is_w2v:\n",
    "        w2vcols = []\n",
    "        for i in range(SIZE):\n",
    "            w2vcols.append(i)\n",
    "        features = FeatureUnion([('textcounts', ColumnExtractor(cols=textcountscols))\n",
    "                                 , ('w2v', ColumnExtractor(cols=w2vcols))]\n",
    "                                , n_jobs=-1)\n",
    "    else:\n",
    "        features = FeatureUnion([('textcounts', ColumnExtractor(cols=textcountscols))\n",
    "                                 , ('pipe', Pipeline([('text', ColumnExtractor(cols='text')), ('vect', vect)]))]\n",
    "                                , n_jobs=-1)\n",
    "    \n",
    "    pipeline = Pipeline([\n",
    "        ('features', features)\n",
    "        , ('clf', clf)\n",
    "    ])\n",
    "    \n",
    "    # Join the parameters dictionaries together\n",
    "    parameters = dict()\n",
    "    if parameters_text:\n",
    "        parameters.update(parameters_text)\n",
    "    parameters.update(parameters_clf)\n",
    "    # Make sure you have scikit-learn version 0.19 or higher to use multiple scoring metrics\n",
    "    grid_search = GridSearchCV(pipeline, parameters, n_jobs=-1, verbose=1, cv=5)\n",
    "    \n",
    "    print(\"Performing grid search...\")\n",
    "    print(\"pipeline:\", [name for name, _ in pipeline.steps])\n",
    "    print(\"parameters:\")\n",
    "    pprint(parameters)\n",
    "    t0 = time()\n",
    "    grid_search.fit(X_train, y_train)\n",
    "    print(\"done in %0.3fs\" % (time() - t0))\n",
    "    print()\n",
    "    print(\"Best CV score: %0.3f\" % grid_search.best_score_)\n",
    "    print(\"Best parameters set:\")\n",
    "    best_parameters = grid_search.best_estimator_.get_params()\n",
    "    for param_name in sorted(parameters.keys()):\n",
    "        print(\"\\t%s: %r\" % (param_name, best_parameters[param_name]))\n",
    "        \n",
    "    print(\"Test score with best_estimator_: %0.3f\" % grid_search.best_estimator_.score(X_test, y_test))\n",
    "    print(\"\\n\")\n",
    "    print(\"Classification Report Test Data\")\n",
    "    print(classification_report(y_test, grid_search.best_estimator_.predict(X_test)))\n",
    "                        \n",
    "    return grid_search"
   ]
  },
  {
   "cell_type": "code",
   "execution_count": 90,
   "metadata": {},
   "outputs": [],
   "source": [
    "parameters_vect = {\n",
    "    #'features__pipe__vect__max_df': (0.25,0.5),\n",
    "    #'features__pipe__vect__ngram_range': ((1, 1), (1, 2))\n",
    "}\n",
    "# Parameter grid settings for MultinomialNB\n",
    "parameters_xgb = {\n",
    "    #'clf__alpha': (0.25, 0.5, 0.75)\n",
    "}\n",
    "# Param"
   ]
  },
  {
   "cell_type": "code",
   "execution_count": 95,
   "metadata": {},
   "outputs": [],
   "source": [
    "import xgboost\n",
    "from xgboost import XGBClassifier\n",
    "from sklearn.feature_extraction.text import TfidfVectorizer\n",
    "from sklearn.pipeline import Pipeline, FeatureUnion\n",
    "from sklearn.model_selection import GridSearchCV\n",
    "from time import time\n",
    "\n",
    "vanilla_xgb_length = XGBClassifier(\n",
    " learning_rate=0.25,\n",
    " max_depth=5,\n",
    " min_child_weight=1,\n",
    " objective='multi:softmax')\n",
    "tfidf_vectorizer = TfidfVectorizer(ngram_range=(1,2))\n",
    "\n",
    "#vanilla_xgb_length.fit(X_train,y_train)\n",
    "#predicted_vanilla_xgb = vanilla_xgb.predict(X_test)"
   ]
  },
  {
   "cell_type": "code",
   "execution_count": 99,
   "metadata": {},
   "outputs": [
    {
     "name": "stdout",
     "output_type": "stream",
     "text": [
      "Performing grid search...\n",
      "pipeline: ['features', 'clf']\n",
      "parameters:\n",
      "{}\n",
      "Fitting 5 folds for each of 1 candidates, totalling 5 fits\n"
     ]
    },
    {
     "name": "stderr",
     "output_type": "stream",
     "text": [
      "[Parallel(n_jobs=-1)]: Using backend LokyBackend with 12 concurrent workers.\n",
      "[Parallel(n_jobs=-1)]: Done   5 out of   5 | elapsed: 70.4min finished\n"
     ]
    },
    {
     "name": "stdout",
     "output_type": "stream",
     "text": [
      "done in 8065.341s\n",
      "\n",
      "Best CV score: 0.607\n",
      "Best parameters set:\n",
      "Test score with best_estimator_: 0.603\n",
      "\n",
      "\n",
      "Classification Report Test Data\n",
      "              precision    recall  f1-score   support\n",
      "\n",
      "         1.0       0.68      0.71      0.69      2460\n",
      "         2.0       0.45      0.22      0.29      1825\n",
      "         3.0       0.46      0.31      0.37      2514\n",
      "         4.0       0.48      0.40      0.44      5038\n",
      "         5.0       0.67      0.87      0.75      8163\n",
      "\n",
      "    accuracy                           0.60     20000\n",
      "   macro avg       0.55      0.50      0.51     20000\n",
      "weighted avg       0.58      0.60      0.58     20000\n",
      "\n"
     ]
    }
   ],
   "source": [
    "best_xgb_tfidf = grid_vect(vanilla_xgb_length, parameters_xgb, X_train, X_test, parameters_text=parameters_vect, vect=tfidf_vectorizer)"
   ]
  },
  {
   "cell_type": "markdown",
   "metadata": {},
   "source": [
    "Add votes"
   ]
  },
  {
   "cell_type": "markdown",
   "metadata": {},
   "source": [
    "Train vanilla on balanced dataset"
   ]
  },
  {
   "cell_type": "markdown",
   "metadata": {},
   "source": [
    "Tune"
   ]
  },
  {
   "cell_type": "markdown",
   "metadata": {},
   "source": [
    "Change vectorization method"
   ]
  },
  {
   "cell_type": "code",
   "execution_count": 81,
   "metadata": {},
   "outputs": [],
   "source": [
    "import dill\n",
    "dill.dump_session('notebook_env2.db')"
   ]
  },
  {
   "cell_type": "code",
   "execution_count": 1,
   "metadata": {},
   "outputs": [
    {
     "name": "stderr",
     "output_type": "stream",
     "text": [
      "/Users/isabelli/opt/anaconda3/lib/python3.7/site-packages/sklearn/externals/joblib/__init__.py:15: FutureWarning: sklearn.externals.joblib is deprecated in 0.21 and will be removed in 0.23. Please import this functionality directly from joblib, which can be installed with: pip install joblib. If this warning is raised when loading pickled models, you may need to re-serialize those models with scikit-learn 0.21+.\n",
      "  warnings.warn(msg, category=FutureWarning)\n"
     ]
    }
   ],
   "source": [
    "import dill\n",
    "dill.load_session('notebook_env2.db')"
   ]
  },
  {
   "cell_type": "code",
   "execution_count": null,
   "metadata": {},
   "outputs": [],
   "source": []
  }
 ],
 "metadata": {
  "kernelspec": {
   "display_name": "Python 3",
   "language": "python",
   "name": "python3"
  }
 },
 "nbformat": 4,
 "nbformat_minor": 4
}
