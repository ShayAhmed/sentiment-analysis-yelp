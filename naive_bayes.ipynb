{
 "cells": [
  {
   "cell_type": "code",
   "execution_count": 2,
   "metadata": {},
   "outputs": [],
   "source": [
    "import sys, os\n",
    "sys.path.append('/usr/local/lib/python3.7/site-packages')\n",
    "os.environ['KMP_DUPLICATE_LIB_OK']='True'"
   ]
  },
  {
   "cell_type": "code",
   "execution_count": 3,
   "metadata": {},
   "outputs": [],
   "source": [
    "import pandas as pd\n",
    "import numpy as np\n",
    "import sklearn\n",
    "import random\n",
    "import joblib\n",
    "import matplotlib\n",
    "import seaborn as sns\n",
    "from sklearn.naive_bayes import MultinomialNB, CategoricalNB, GaussianNB\n",
    "from sklearn.feature_extraction.text import CountVectorizer\n",
    "from sklearn.model_selection import train_test_split\n",
    "from sklearn.model_selection import GridSearchCV\n",
    "from sklearn.metrics import accuracy_score\n",
    "from matplotlib import pyplot as plt\n",
    "from sklearn.model_selection import learning_curve"
   ]
  },
  {
   "cell_type": "code",
   "execution_count": 4,
   "metadata": {},
   "outputs": [],
   "source": [
    "# Read preprocessed data\n",
    "\n",
    "# 5.0    2077511\n",
    "# 4.0    1254099\n",
    "# 3.0     639748\n",
    "# 1.0     628044\n",
    "# 2.0     456590\n",
    "\n",
    "# headers = [\"business_id\", \"stars\", \"text\", \"date\", \"positive\"]\n",
    "headers = [\"business_id\", \"stars\", \"text\", \"date\", \"useful\", \"funny\", \"cool\", \"positive\"]\n",
    "# dtype = {\"business_id\" : str, \n",
    "#           \"stars\" : np.float, \n",
    "#           \"text\" : str, \n",
    "#           \"date\" : str,\n",
    "#           \"positive\" : np.float}\n",
    "dtype = {\"business_id\" : str, \n",
    "         \"stars\" : np.float, \n",
    "         \"text\" : str, \n",
    "         \"date\" : str,\n",
    "         \"useful\" : np.float,\n",
    "         \"funny\" : np.float,\n",
    "         \"cool\" : np.float,\n",
    "         \"positive\" : np.int}\n",
    "# parse_dates = ['date']\n",
    "\n",
    "s = 30000\n",
    "n = 5055992\n",
    "\n",
    "\n",
    "skiprows = sorted(random.sample(range(1,n+1), n-s))\n",
    "\n",
    "df = pd.read_csv('data/preprocessed_data4.csv', \n",
    "                 header=0, \n",
    "                 names=headers, \n",
    "                 dtype=dtype, \n",
    "                 # parse_dates=parse_dates,\n",
    "                 skiprows=skiprows,\n",
    "                 error_bad_lines=False,\n",
    "                 warn_bad_lines=True)"
   ]
  },
  {
   "cell_type": "code",
   "execution_count": 5,
   "metadata": {},
   "outputs": [
    {
     "name": "stdout",
     "output_type": "stream",
     "text": [
      "(30000, 8)\n"
     ]
    }
   ],
   "source": [
    "df.head()\n",
    "print(df.shape)"
   ]
  },
  {
   "cell_type": "code",
   "execution_count": 6,
   "metadata": {},
   "outputs": [
    {
     "name": "stdout",
     "output_type": "stream",
     "text": [
      "(30000, 46070)\n"
     ]
    }
   ],
   "source": [
    "# Create a bag of words for each review\n",
    "# train_size = 30000\n",
    "\n",
    "df = df.dropna()\n",
    "corpus = df[\"text\"]\n",
    "# print(corpus.shape)\n",
    "\n",
    "vectorizer = CountVectorizer()\n",
    "vector = vectorizer.fit_transform(corpus)\n",
    "# print(vectorizer.get_feature_names())\n",
    "# print(vector.toarray())\n",
    "print (vector.shape)"
   ]
  },
  {
   "cell_type": "code",
   "execution_count": 7,
   "metadata": {},
   "outputs": [
    {
     "name": "stdout",
     "output_type": "stream",
     "text": [
      "(30000, 46070)\n",
      "(30000,)\n",
      "(30000, 46074)\n"
     ]
    }
   ],
   "source": [
    "# Train test split \n",
    "X = vector.toarray()\n",
    "print (X.shape)\n",
    "print (df[\"positive\"].to_numpy().shape)\n",
    "features = np.vstack((df[\"positive\"].to_numpy(), df[\"useful\"].to_numpy(), df[\"funny\"].to_numpy(), df[\"cool\"].to_numpy())).T\n",
    "# features = df[\"positive\"].to_numpy()\n",
    "# print(features.shape)\n",
    "# X = np.hstack((X, features[:, None]))\n",
    "X = np.hstack((X, features))\n",
    "print(X.shape)\n",
    "y = df[\"stars\"].to_numpy()\n",
    "X_train, X_test, y_train, y_test = train_test_split(X, y, test_size=0.2, random_state=42)"
   ]
  },
  {
   "cell_type": "code",
   "execution_count": 80,
   "metadata": {},
   "outputs": [
    {
     "name": "stdout",
     "output_type": "stream",
     "text": [
      "Fitting 5 folds for each of 1 candidates, totalling 5 fits\n"
     ]
    },
    {
     "name": "stderr",
     "output_type": "stream",
     "text": [
      "[Parallel(n_jobs=1)]: Using backend SequentialBackend with 1 concurrent workers.\n",
      "[Parallel(n_jobs=1)]: Done   5 out of   5 | elapsed: 13.5min finished\n"
     ]
    },
    {
     "data": {
      "text/plain": [
       "GridSearchCV(cv=5, error_score=nan,\n",
       "             estimator=MultinomialNB(alpha=1.0, class_prior=None,\n",
       "                                     fit_prior=True),\n",
       "             iid='deprecated', n_jobs=None, param_grid={},\n",
       "             pre_dispatch='2*n_jobs', refit=True, return_train_score=False,\n",
       "             scoring=None, verbose=True)"
      ]
     },
     "execution_count": 80,
     "metadata": {},
     "output_type": "execute_result"
    }
   ],
   "source": [
    "# Train Naive Bayes\n",
    "\n",
    "estimator = MultinomialNB()\n",
    "param_grid = {\"alpha\" : [1.0],\n",
    "              \"fit_prior\" : True,\n",
    "              \"class_prior\" : [456590/n, 628044/n, 639748/n, 1254099/n, 2077511/n]\n",
    "             }\n",
    "param_grid = {}\n",
    "clf = GridSearchCV(estimator=estimator, \n",
    "                   param_grid=param_grid,\n",
    "                   cv=5,\n",
    "                   verbose=True)\n",
    "clf.fit(X_train, y_train)\n"
   ]
  },
  {
   "cell_type": "code",
   "execution_count": 81,
   "metadata": {},
   "outputs": [
    {
     "data": {
      "text/plain": [
       "0.5995"
      ]
     },
     "execution_count": 81,
     "metadata": {},
     "output_type": "execute_result"
    }
   ],
   "source": [
    "clf.score(X_test, y_test)\n"
   ]
  },
  {
   "cell_type": "code",
   "execution_count": 82,
   "metadata": {},
   "outputs": [
    {
     "ename": "SyntaxError",
     "evalue": "invalid syntax (<ipython-input-82-2bfa8704eb02>, line 1)",
     "output_type": "error",
     "traceback": [
      "\u001b[0;36m  File \u001b[0;32m\"<ipython-input-82-2bfa8704eb02>\"\u001b[0;36m, line \u001b[0;32m1\u001b[0m\n\u001b[0;31m    0.58975 - alpha=0.5, size=30000, no extra\u001b[0m\n\u001b[0m                                            ^\u001b[0m\n\u001b[0;31mSyntaxError\u001b[0m\u001b[0;31m:\u001b[0m invalid syntax\n"
     ]
    }
   ],
   "source": [
    "0.58975 - alpha=0.5, size=30000, no extra\n",
    "0.586417 - alpha = 1.0, size=40000, no extra\n",
    "0.57989 - alpha = 1.0, size=30000, extra\n",
    "0.5837 - alpha = 0.5, size=30000, extra\n",
    "0.5905 - alpha=0.5, size=30000, extra, 0.2 test_size\n",
    "0.613166 - alpha = 0.5"
   ]
  },
  {
   "cell_type": "code",
   "execution_count": 87,
   "metadata": {},
   "outputs": [
    {
     "data": {
      "text/plain": [
       "['nb_model.pkl']"
      ]
     },
     "execution_count": 87,
     "metadata": {},
     "output_type": "execute_result"
    }
   ],
   "source": [
    "param_path ='nb_param.pkl'\n",
    "model_path ='nb_model.pkl'  \n",
    "joblib.dump(clf.get_params(), param_path)\n",
    "joblib.dump(clf, model_path)"
   ]
  },
  {
   "cell_type": "code",
   "execution_count": 117,
   "metadata": {},
   "outputs": [],
   "source": [
    "param_path ='nb_param.pkl'\n",
    "model_path ='nb_model.pkl' \n",
    "param = joblib.load(param_path)\n",
    "clf = joblib.load(model_path)"
   ]
  },
  {
   "cell_type": "code",
   "execution_count": 110,
   "metadata": {
    "scrolled": true
   },
   "outputs": [
    {
     "name": "stdout",
     "output_type": "stream",
     "text": [
      "One star:  ['food' 'place' 'time' 'service' 'order' 'one' 'back' 'like' 'get' 'would']\n",
      "Two stars:  ['food' 'place' 'good' 'like' 'time' 'service' 'get' 'one' 'ordered'\n",
      " 'would']\n",
      "Three stars:  ['food' 'good' 'place' 'like' 'service' 'time' 'would' 'one' 'great'\n",
      " 'really']\n",
      "Four stars:  ['good' 'food' 'place' 'great' 'time' 'like' 'service' 'really' 'one'\n",
      " 'get']\n",
      "Five stars:  ['food' 'place' 'great' 'good' 'service' 'time' 'best' 'delicious' 'one'\n",
      " 'back']\n"
     ]
    }
   ],
   "source": [
    "one_star_index = clf.best_estimator_.feature_log_prob_[0, :].argsort()[::-1]\n",
    "two_star_index = clf.best_estimator_.feature_log_prob_[1, :].argsort()[::-1]\n",
    "three_star_index = clf.best_estimator_.feature_log_prob_[2, :].argsort()[::-1]\n",
    "four_star_index = clf.best_estimator_.feature_log_prob_[3, :].argsort()[::-1]\n",
    "five_star_index = clf.best_estimator_.feature_log_prob_[4, :].argsort()[::-1]\n",
    "\n",
    "one_star_prob = np.sort(np.exp(clf.best_estimator_.feature_log_prob_[0, :]))\n",
    "two_star_prob = np.sort(np.exp(clf.best_estimator_.feature_log_prob_[1, :]))\n",
    "three_star_prob = np.sort(np.exp(clf.best_estimator_.feature_log_prob_[2, :]))\n",
    "four_star_prob = np.sort(np.exp(clf.best_estimator_.feature_log_prob_[3, :]))\n",
    "five_star_prob = np.sort(np.exp(clf.best_estimator_.feature_log_prob_[4, :]))\n",
    "\n",
    "one_star_words = np.take(vectorizer.get_feature_names(), one_star_index[:10])\n",
    "two_star_words = np.take(vectorizer.get_feature_names(), two_star_index[:10])\n",
    "three_star_words = np.take(vectorizer.get_feature_names(), three_star_index[:10])\n",
    "four_star_words = np.take(vectorizer.get_feature_names(), four_star_index[:10])\n",
    "five_star_words = np.take(vectorizer.get_feature_names(), five_star_index[:10])\n",
    "\n",
    "print(\"One star: \", one_star_words)\n",
    "print(\"Two stars: \", two_star_words)\n",
    "print(\"Three stars: \", three_star_words)\n",
    "print(\"Four stars: \", four_star_words)\n",
    "print(\"Five stars: \", five_star_words)"
   ]
  },
  {
   "cell_type": "code",
   "execution_count": 17,
   "metadata": {},
   "outputs": [],
   "source": [
    "def plot_learning_curve(estimator, title, X, y, axes=None, ylim=None, cv=None,\n",
    "                        n_jobs=None, train_sizes=np.linspace(.1, 1.0, 5)):\n",
    "    \"\"\"\n",
    "    Generate 3 plots: the test and training learning curve, the training\n",
    "    samples vs fit times curve, the fit times vs score curve.\n",
    "\n",
    "    Parameters\n",
    "    ----------\n",
    "    estimator : object type that implements the \"fit\" and \"predict\" methods\n",
    "        An object of that type which is cloned for each validation.\n",
    "\n",
    "    title : string\n",
    "        Title for the chart.\n",
    "\n",
    "    X : array-like, shape (n_samples, n_features)\n",
    "        Training vector, where n_samples is the number of samples and\n",
    "        n_features is the number of features.\n",
    "\n",
    "    y : array-like, shape (n_samples) or (n_samples, n_features), optional\n",
    "        Target relative to X for classification or regression;\n",
    "        None for unsupervised learning.\n",
    "\n",
    "    axes : array of 3 axes, optional (default=None)\n",
    "        Axes to use for plotting the curves.\n",
    "\n",
    "    ylim : tuple, shape (ymin, ymax), optional\n",
    "        Defines minimum and maximum yvalues plotted.\n",
    "\n",
    "    cv : int, cross-validation generator or an iterable, optional\n",
    "        Determines the cross-validation splitting strategy.\n",
    "        Possible inputs for cv are:\n",
    "          - None, to use the default 5-fold cross-validation,\n",
    "          - integer, to specify the number of folds.\n",
    "          - :term:`CV splitter`,\n",
    "          - An iterable yielding (train, test) splits as arrays of indices.\n",
    "\n",
    "        For integer/None inputs, if ``y`` is binary or multiclass,\n",
    "        :class:`StratifiedKFold` used. If the estimator is not a classifier\n",
    "        or if ``y`` is neither binary nor multiclass, :class:`KFold` is used.\n",
    "\n",
    "        Refer :ref:`User Guide <cross_validation>` for the various\n",
    "        cross-validators that can be used here.\n",
    "\n",
    "    n_jobs : int or None, optional (default=None)\n",
    "        Number of jobs to run in parallel.\n",
    "        ``None`` means 1 unless in a :obj:`joblib.parallel_backend` context.\n",
    "        ``-1`` means using all processors. See :term:`Glossary <n_jobs>`\n",
    "        for more details.\n",
    "\n",
    "    train_sizes : array-like, shape (n_ticks,), dtype float or int\n",
    "        Relative or absolute numbers of training examples that will be used to\n",
    "        generate the learning curve. If the dtype is float, it is regarded as a\n",
    "        fraction of the maximum size of the training set (that is determined\n",
    "        by the selected validation method), i.e. it has to be within (0, 1].\n",
    "        Otherwise it is interpreted as absolute sizes of the training sets.\n",
    "        Note that for classification the number of samples usually have to\n",
    "        be big enough to contain at least one sample from each class.\n",
    "        (default: np.linspace(0.1, 1.0, 5))\n",
    "    \"\"\"\n",
    "    if axes is None:\n",
    "        _, axes = plt.subplots(1, 3, figsize=(20, 5))\n",
    "\n",
    "    axes[0].set_title(title)\n",
    "    if ylim is not None:\n",
    "        axes[0].set_ylim(*ylim)\n",
    "    axes[0].set_xlabel(\"Training examples\")\n",
    "    axes[0].set_ylabel(\"Score\")\n",
    "\n",
    "    train_sizes, train_scores, test_scores, fit_times, _ = \\\n",
    "        learning_curve(estimator, X, y, cv=cv, n_jobs=n_jobs,\n",
    "                       train_sizes=train_sizes,\n",
    "                       return_times=True,\n",
    "                       verbose=True)\n",
    "    train_scores_mean = np.mean(train_scores, axis=1)\n",
    "    train_scores_std = np.std(train_scores, axis=1)\n",
    "    test_scores_mean = np.mean(test_scores, axis=1)\n",
    "    test_scores_std = np.std(test_scores, axis=1)\n",
    "    fit_times_mean = np.mean(fit_times, axis=1)\n",
    "    fit_times_std = np.std(fit_times, axis=1)\n",
    "\n",
    "    # Plot learning curve\n",
    "    axes[0].grid()\n",
    "    axes[0].fill_between(train_sizes, train_scores_mean - train_scores_std,\n",
    "                         train_scores_mean + train_scores_std, alpha=0.1,\n",
    "                         color=\"r\")\n",
    "    axes[0].fill_between(train_sizes, test_scores_mean - test_scores_std,\n",
    "                         test_scores_mean + test_scores_std, alpha=0.1,\n",
    "                         color=\"g\")\n",
    "    axes[0].plot(train_sizes, train_scores_mean, 'o-', color=\"r\",\n",
    "                 label=\"Training score\")\n",
    "    axes[0].plot(train_sizes, test_scores_mean, 'o-', color=\"g\",\n",
    "                 label=\"Cross-validation score\")\n",
    "    axes[0].legend(loc=\"best\")\n",
    "\n",
    "    # Plot n_samples vs fit_times\n",
    "    axes[1].grid()\n",
    "    axes[1].plot(train_sizes, fit_times_mean, 'o-')\n",
    "    axes[1].fill_between(train_sizes, fit_times_mean - fit_times_std,\n",
    "                         fit_times_mean + fit_times_std, alpha=0.1)\n",
    "    axes[1].set_xlabel(\"Training examples\")\n",
    "    axes[1].set_ylabel(\"fit_times\")\n",
    "    axes[1].set_title(\"Scalability of the model\")\n",
    "\n",
    "    # Plot fit_time vs score\n",
    "    axes[2].grid()\n",
    "    axes[2].plot(fit_times_mean, test_scores_mean, 'o-')\n",
    "    axes[2].fill_between(fit_times_mean, test_scores_mean - test_scores_std,\n",
    "                         test_scores_mean + test_scores_std, alpha=0.1)\n",
    "    axes[2].set_xlabel(\"fit_times\")\n",
    "    axes[2].set_ylabel(\"Score\")\n",
    "    axes[2].set_title(\"Performance of the model\")\n",
    "\n",
    "    return plt"
   ]
  },
  {
   "cell_type": "code",
   "execution_count": 8,
   "metadata": {},
   "outputs": [
    {
     "ename": "NameError",
     "evalue": "name 'plot_learning_curve' is not defined",
     "output_type": "error",
     "traceback": [
      "\u001b[0;31m---------------------------------------------------------------------------\u001b[0m",
      "\u001b[0;31mNameError\u001b[0m                                 Traceback (most recent call last)",
      "\u001b[0;32m<ipython-input-8-dc537f348d60>\u001b[0m in \u001b[0;36m<module>\u001b[0;34m\u001b[0m\n\u001b[1;32m      2\u001b[0m \u001b[0mtitle\u001b[0m \u001b[0;34m=\u001b[0m \u001b[0;34m\"Learning Curves (Naive Bayes)\"\u001b[0m\u001b[0;34m\u001b[0m\u001b[0;34m\u001b[0m\u001b[0m\n\u001b[1;32m      3\u001b[0m \u001b[0mnb\u001b[0m \u001b[0;34m=\u001b[0m \u001b[0mMultinomialNB\u001b[0m\u001b[0;34m(\u001b[0m\u001b[0malpha\u001b[0m \u001b[0;34m=\u001b[0m \u001b[0;36m0.5\u001b[0m\u001b[0;34m,\u001b[0m \u001b[0mfit_prior\u001b[0m\u001b[0;34m=\u001b[0m\u001b[0;32mTrue\u001b[0m\u001b[0;34m,\u001b[0m \u001b[0mclass_prior\u001b[0m\u001b[0;34m=\u001b[0m\u001b[0;34m[\u001b[0m\u001b[0;36m456590\u001b[0m\u001b[0;34m/\u001b[0m\u001b[0mn\u001b[0m\u001b[0;34m,\u001b[0m \u001b[0;36m628044\u001b[0m\u001b[0;34m/\u001b[0m\u001b[0mn\u001b[0m\u001b[0;34m,\u001b[0m \u001b[0;36m639748\u001b[0m\u001b[0;34m/\u001b[0m\u001b[0mn\u001b[0m\u001b[0;34m,\u001b[0m \u001b[0;36m1254099\u001b[0m\u001b[0;34m/\u001b[0m\u001b[0mn\u001b[0m\u001b[0;34m,\u001b[0m \u001b[0;36m2077511\u001b[0m\u001b[0;34m/\u001b[0m\u001b[0mn\u001b[0m\u001b[0;34m]\u001b[0m\u001b[0;34m)\u001b[0m\u001b[0;34m\u001b[0m\u001b[0;34m\u001b[0m\u001b[0m\n\u001b[0;32m----> 4\u001b[0;31m plot_learning_curve(nb, title, X_train, y_train, axes=axes[:, 0], ylim=(0.7, 1.01),\n\u001b[0m\u001b[1;32m      5\u001b[0m                      cv=5, n_jobs=1)\n\u001b[1;32m      6\u001b[0m \u001b[0mplt\u001b[0m\u001b[0;34m.\u001b[0m\u001b[0mshow\u001b[0m\u001b[0;34m(\u001b[0m\u001b[0;34m)\u001b[0m\u001b[0;34m\u001b[0m\u001b[0;34m\u001b[0m\u001b[0m\n",
      "\u001b[0;31mNameError\u001b[0m: name 'plot_learning_curve' is not defined"
     ]
    },
    {
     "data": {
      "image/png": "[encoded data removed]",
      "text/plain": [
       "<Figure size 720x1080 with 6 Axes>"
      ]
     },
     "metadata": {
      "needs_background": "light"
     },
     "output_type": "display_data"
    }
   ],
   "source": [
    "fig, axes = plt.subplots(3, 2, figsize=(10, 15))\n",
    "title = \"Learning Curves (Naive Bayes)\"\n",
    "nb = MultinomialNB(alpha = 0.5, fit_prior=True, class_prior=[456590/n, 628044/n, 639748/n, 1254099/n, 2077511/n])\n",
    "plot_learning_curve(nb, title, X_train, y_train, axes=axes[:, 0], ylim=(0.7, 1.01),\n",
    "                     cv=5, n_jobs=1)\n",
    "plt.show()"
   ]
  },
  {
   "cell_type": "code",
   "execution_count": null,
   "metadata": {},
   "outputs": [],
   "source": []
  }
 ],
 "metadata": {
  "kernelspec": {
   "display_name": "Python 3",
   "language": "python",
   "name": "python3"
  },
  "language_info": {
   "codemirror_mode": {
    "name": "ipython",
    "version": 3
   },
   "file_extension": ".py",
   "mimetype": "text/x-python",
   "name": "python",
   "nbconvert_exporter": "python",
   "pygments_lexer": "ipython3",
   "version": "3.7.6"
  }
 },
 "nbformat": 4,
 "nbformat_minor": 2
}
